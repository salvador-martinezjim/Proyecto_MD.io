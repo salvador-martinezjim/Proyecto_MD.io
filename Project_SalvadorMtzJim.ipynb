{
 "cells": [
  {
   "cell_type": "markdown",
   "id": "e81fbdba",
   "metadata": {},
   "source": [
    "## Matemáticas Discretas\n",
    "\n",
    "# EL ÚLTIMO NÚMERO PRIMO DE MERSENNE\n",
    "\n",
    "### Información sobre los Números de Mersenne\n",
    "Los números de Mersenne son números enteros que tienen la forma: \\(2^n - 1\\), donde \\(n\\) es un número entero positivo.\n",
    "\n",
    "### Historia\n",
    "Llevan el nombre del monje francés Marin Mersenne, quien estudió estos números en el siglo XVII.\n",
    "\n",
    "### Propiedades\n",
    "\n",
    "#### Primos de Mercene \n",
    "Si 2^n - 1 da como resultado un numero primo, entonces n es un numero primo.\n",
    "\n",
    "#### Aplicaciones\n",
    "Se utilizan en criptografía, teoría de números y para generar números aleatorios.\n",
    "\n",
    "#### Búsqueda de nuevos primos\n",
    "Los primos de Mersenne son de gran interés en matemáticas y se utilizan programas informáticos para encontrar nuevos.\n",
    "\n",
    "### Dato\n",
    "El mayor número primo conocido es un número de Mersenne, el cual es \\(2^{82,589,933} - 1\\) y consta de 24,862,048 dígitos. Se descubrió en 2018 utilizando computadoras voluntarias y un software especializado para el proyecto Great Internet Mersenne Prime Search.\n",
    "\n",
    "#### Ejemplos:\n",
    "M2= 2^2 - 1=3\n",
    "M3= 32^3 - 1=7\n",
    "M5= 2^5 - 1=31\n",
    "\n",
    "\n",
    "\n",
    "⚠️ **Nota:** Este es un algoritmo elaborado con Python. Dicho lenguaje no procesa tantos dígitos. Sin embargo, la calculadora funciona hasta cifras de millones.\n",
    "\n",
    "### Curiosidades:\n",
    "\n",
    "Este número fue verificado independientemente por varios investigadores utilizando diferentes programas y computadoras.\n",
    "\n",
    "Los números primos de Mersenne tienen aplicaciones en criptografía y en pruebas de primalidad."
   ]
  },
  {
   "cell_type": "markdown",
   "id": "104c5114",
   "metadata": {},
   "source": [
    "## ALGORITMO EN PYTHON"
   ]
  },
  {
   "cell_type": "markdown",
   "id": "0671b034",
   "metadata": {},
   "source": [
    "Nota: se implementó el siguiente algoritmo\n",
    "\n",
    "### Algoritmo de Miller-Rabin\n",
    "Para verificar si un número es primo, implementamos el **algoritmo de Miller-Rabin**. Este algoritmo es una prueba probabilística de primalidad que es más eficiente que los métodos determinísticos para números grandes.\n",
    "\n",
    "- **Eficiencia**: El algoritmo de Miller-Rabin es rápido y puede manejar números muy grandes, lo que lo hace adecuado para probar la primalidad de números de Mersenne, que pueden tener cientos de miles o millones de dígitos.\n",
    "- **Probabilístico**: Aunque es una prueba probabilística, con un número suficiente de iteraciones, la probabilidad de error puede hacerse arbitrariamente pequeña, haciendo que sea muy confiable para la mayoría de las aplicaciones prácticas.\n"
   ]
  },
  {
   "cell_type": "markdown",
   "id": "ef2440a7",
   "metadata": {},
   "source": [
    "Ahora si empecemos con el código"
   ]
  },
  {
   "cell_type": "markdown",
   "id": "fe6f1758",
   "metadata": {},
   "source": [
    "### Creamos la función para calcular el número de Mersenne"
   ]
  },
  {
   "cell_type": "code",
   "execution_count": null,
   "id": "8344b8d3",
   "metadata": {},
   "outputs": [],
   "source": [
    "def calcular_numero_mersenne(p):\n",
    "    return (2 ** p) - 1"
   ]
  },
  {
   "cell_type": "markdown",
   "id": "b813a0a4",
   "metadata": {},
   "source": [
    "### Creamos la función para verificar si un número es primo usando el algoritmo de Miller-Rabin"
   ]
  },
  {
   "cell_type": "code",
   "execution_count": null,
   "id": "32380a54",
   "metadata": {},
   "outputs": [],
   "source": [
    "def es_primo(n, k=5):\n",
    "    if n <= 1:\n",
    "        return False\n",
    "    if n <= 3:\n",
    "        return True\n",
    "    if n % 2 == 0:\n",
    "        return False\n",
    "   \n",
    "    d = n - 1\n",
    "    s = 0\n",
    "    while d % 2 == 0:\n",
    "        d //= 2\n",
    "        s += 1\n",
    "    \n",
    "    for _ in range(k):\n",
    "        a = 2 + _  \n",
    "        x = pow(a, d, n)\n",
    "        if x == 1 or x == n - 1:\n",
    "            continue\n",
    "        for _ in range(s - 1):\n",
    "            x = pow(x, 2, n)\n",
    "            if x == n - 1:\n",
    "                break\n",
    "        else:\n",
    "            return False\n",
    "    return True"
   ]
  },
  {
   "cell_type": "markdown",
   "id": "068c1eb1",
   "metadata": {},
   "source": [
    "\n",
    "\n",
    "### Introduce una Potencia para Calcular el Número de Mersenne y Verificar si es Primo\n"
   ]
  },
  {
   "cell_type": "code",
   "execution_count": null,
   "id": "6231fc17",
   "metadata": {},
   "outputs": [],
   "source": [
    "\n",
    "potencia = int(input(\"Introduce una potencia positiva: \"))\n",
    "\n",
    "if potencia < 0:\n",
    "    print(\"Inserta una cantidad positiva\")\n",
    "else:\n",
    "  \n",
    "    numero_mersenne = calcular_numero_mersenne(potencia)\n",
    "    print(f\"M_{potencia} = 2^{potencia} - 1 = {numero_mersenne}\")\n",
    "\n",
    " \n",
    "    if es_primo(numero_mersenne):\n",
    "        print(f\"{numero_mersenne} es un número primo.\")\n",
    "    else:\n",
    "        print(f\"{numero_mersenne} no es un número primo.\")\n"
   ]
  }
 ],
 "metadata": {
  "kernelspec": {
   "display_name": "Python 3 (ipykernel)",
   "language": "python",
   "name": "python3"
  },
  "language_info": {
   "codemirror_mode": {
    "name": "ipython",
    "version": 3
   },
   "file_extension": ".py",
   "mimetype": "text/x-python",
   "name": "python",
   "nbconvert_exporter": "python",
   "pygments_lexer": "ipython3",
   "version": "3.11.5"
  }
 },
 "nbformat": 4,
 "nbformat_minor": 5
}
